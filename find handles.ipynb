{
 "cells": [
  {
   "cell_type": "code",
   "execution_count": 10,
   "metadata": {},
   "outputs": [],
   "source": [
    "import pandas as pd\n",
    "import re\n",
    "\n",
    "def getHandle (info):\n",
    "    if \"@\" in info:\n",
    "        return info[info.find(\"@\")+1:].split()[0]\n",
    "    else:\n",
    "        return \"something_else_appropriate\"\n",
    "\n",
    "def remChar (handle):\n",
    "    return re.sub('[:]', '', handle)\n",
    "    \n",
    "handle_df = pd.read_csv(\"handles.csv\", sep=\";\", header=None)\n",
    "\n",
    "handle_df[1] = handle_df[0].apply(getHandle)\n",
    "\n",
    "handle_df[1] = handle_df[1].apply(remChar)\n",
    "\n",
    "new_df = handle_df.groupby([1]).count()\n",
    "\n",
    "new_df = new_df.sort_values([0], ascending=False)\n",
    "\n",
    "new_df.to_csv(\"list_handles.csv\", header=None)  # writes file"
   ]
  },
  {
   "cell_type": "code",
   "execution_count": null,
   "metadata": {},
   "outputs": [],
   "source": []
  },
  {
   "cell_type": "code",
   "execution_count": null,
   "metadata": {
    "collapsed": true
   },
   "outputs": [],
   "source": []
  }
 ],
 "metadata": {
  "kernelspec": {
   "display_name": "Python 3",
   "language": "python",
   "name": "python3"
  },
  "language_info": {
   "codemirror_mode": {
    "name": "ipython",
    "version": 3
   },
   "file_extension": ".py",
   "mimetype": "text/x-python",
   "name": "python",
   "nbconvert_exporter": "python",
   "pygments_lexer": "ipython3",
   "version": "3.6.4"
  }
 },
 "nbformat": 4,
 "nbformat_minor": 2
}
