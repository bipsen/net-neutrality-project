{
 "cells": [
  {
   "cell_type": "code",
   "execution_count": 82,
   "metadata": {},
   "outputs": [
    {
     "data": {
      "text/plain": [
       "linked\n",
       "                                 5548\n",
       "https://t.co/SHPurkak4e          5223\n",
       "https://t.co/4DvnahLRGN          2204\n",
       "https://t.co/HW4iChFJop          2123\n",
       "https://t.co/YeBLQvAjaL          2043\n",
       "https://t.co/ECFksBqtwE          1303\n",
       "https://t.co/g6y1haLKvM          1120\n",
       "https://t.co/JHT2Q4hYpa          1092\n",
       "https://t.co/kRaqkjcyVW           805\n",
       "https://t.co/vMpUzH8cKC           704\n",
       "https://t.co/PK6Xpd6wvM           660\n",
       "https://t.co/iAteZ236AZ           526\n",
       "https://t.co/eT618G8Ote           506\n",
       "https://t.co/XcvMJEDDkq           466\n",
       "https://t.co/E7mwcS0tiZ           433\n",
       "https://t.co/DLoVDQXuzh           409\n",
       "https://t.co/LWo42uLuse           378\n",
       "https://t.co/4RyUUPCH6b           363\n",
       "https://t.co/XswIZnchnm           345\n",
       "https://t.co/jCDuqR1Nq6           319\n",
       "https://t.co/S8d0OxZQe0           307\n",
       "https://t.co/QQhIygB1QP           267\n",
       "https://t.co/oGbXNhDw1B           265\n",
       "https://t.co/HfqgjwPZss           259\n",
       "https://t.co/sV6CepS6Sh           230\n",
       "https://t.co/UdW7Dd4fTO           199\n",
       "https://t.co/7yxNNA2xaE           184\n",
       "https://t.co/7iR1Pwhmrw           180\n",
       "https://t.co/fCPRfxJldO           175\n",
       "https://t.co/s75t9VEqas           173\n",
       "                                 ... \n",
       "https://t.co/qbciT8UbL1             1\n",
       "https://t.co/Unn0uwY3kq             1\n",
       "https://t.co/V1YMBBx6Fb             1\n",
       "https://t.co/Uo09ORqPgo             1\n",
       "https://t.co/UoJTBPP9Ro             1\n",
       "https://t.co/qxRRp1ugKm             1\n",
       "https://t.co/UpYNYdKkuN             1\n",
       "https://t.co/UqHZkYlE40             1\n",
       "https://t.co/UtPBPk4HIe             1\n",
       "https://t.co/Uw779VaA2l             1\n",
       "https://t.co/qnlkEQO0Fb             1\n",
       "https://t.co/UxiYpQKJEn             1\n",
       "https://t.co/UyrxSQ4kmg             1\n",
       "https://t.co/V0a10w0Jtq             1\n",
       "https://t.co/V1A5cSDyIb             1\n",
       "https://t.co/qln0acTEOG             1\n",
       "https://t.co/VR2iVKX8zA             1\n",
       "https://t.co/V4mDsaI8E2             1\n",
       "https://t.co/qktwBT2SbG             1\n",
       "https://t.co/VBQ17TcB2N             1\n",
       "https://t.co/VDnaNq2Zxs             1\n",
       "https://t.co/VDp5n8Fit9             1\n",
       "https://t.co/qgUUBLdwSM             1\n",
       "https://t.co/VFiLyK5QzA             1\n",
       "https://t.co/VGUyOFn8v1             1\n",
       "https://t.co/VHUcFEQVNw             1\n",
       "https://t.co/VMw6CwP1iC             1\n",
       "https://t.co/qfWst5gFG0             1\n",
       "https://t.co/VOcW9iGMJb             1\n",
       "you???https://t.co/Vib8SEbbUV       1\n",
       "Name: linked, Length: 2621, dtype: int64"
      ]
     },
     "execution_count": 82,
     "metadata": {},
     "output_type": "execute_result"
    }
   ],
   "source": [
    "import pandas as pd\n",
    "\n",
    "\n",
    "def getLinks (info): \n",
    "    for i in info.split(\" \"):\n",
    "        if \"t.co\" in i:\n",
    "            return i     \n",
    "    else:\n",
    "        return \"\"\n",
    "    \n",
    "links_df = pd.read_csv(\"onemore_fullexport.csv\", sep=\",\", header=0)\n",
    "\n",
    "links_df[\"linked\"] = links_df[\"text\"].apply(getLinks)\n",
    "\n",
    "grouped_df = links_df[\"linked\"].groupby(links_df[\"linked\"]).count().sort_values(ascending=False)\n",
    "\n",
    "grouped_df.to_csv(\"grouped_links.csv\", header=0)\n"
   ]
  },
  {
   "cell_type": "code",
   "execution_count": null,
   "metadata": {
    "collapsed": true
   },
   "outputs": [],
   "source": [
    "\n",
    "#links_df.groupby([1]).count()\n",
    "\n",
    "#new_df = new_df.sort_values([0], ascending=False)\n",
    "\n",
    "#links_df.to_csv(\"list_links.csv\", header=0)  # writes file"
   ]
  },
  {
   "cell_type": "code",
   "execution_count": 1,
   "metadata": {
    "collapsed": true
   },
   "outputs": [],
   "source": [
    "text = \"Hej jeg hedder Bertil\""
   ]
  },
  {
   "cell_type": "code",
   "execution_count": null,
   "metadata": {},
   "outputs": [],
   "source": [
    "text"
   ]
  },
  {
   "cell_type": "code",
   "execution_count": null,
   "metadata": {},
   "outputs": [],
   "source": [
    "def findURL(tekst): \n",
    "    for i in tekst.split(\" \"):\n",
    "        if \"t.co\" in i:\n",
    "            return i\n",
    "\n"
   ]
  },
  {
   "cell_type": "code",
   "execution_count": 25,
   "metadata": {},
   "outputs": [
    {
     "name": "stdout",
     "output_type": "stream",
     "text": [
      "https://stackoverflow.com/\n"
     ]
    }
   ],
   "source": [
    "from urllib.request import urlopen\n",
    "print(urlopen('http://bit.ly/1cPIdPg').geturl())"
   ]
  },
  {
   "cell_type": "code",
   "execution_count": null,
   "metadata": {
    "collapsed": true
   },
   "outputs": [],
   "source": []
  }
 ],
 "metadata": {
  "kernelspec": {
   "display_name": "Python 3",
   "language": "python",
   "name": "python3"
  },
  "language_info": {
   "codemirror_mode": {
    "name": "ipython",
    "version": 3
   },
   "file_extension": ".py",
   "mimetype": "text/x-python",
   "name": "python",
   "nbconvert_exporter": "python",
   "pygments_lexer": "ipython3",
   "version": "3.6.4"
  }
 },
 "nbformat": 4,
 "nbformat_minor": 2
}
