{
 "cells": [
  {
   "cell_type": "code",
   "execution_count": 55,
   "metadata": {},
   "outputs": [],
   "source": [
    "import pandas as pd\n",
    "\n",
    "def lookUp(link):\n",
    "    return main_df.loc[main_df[1] == link, 0].reset_index().drop('index', 1).sum(0)[0]\n",
    "\n",
    "main_df = pd.read_csv(\"links_referet_til.csv\", sep=\",\", header=None)\n",
    "\n",
    "uniques = main_df[1].unique()\n",
    "\n",
    "unique_df = pd.DataFrame(uniques)\n",
    "\n",
    "unique_df[\"new_count\"] = unique_df[0].apply(lookUp)\n",
    "\n",
    "unique_df = unique_df.sort_values(\"new_count\", ascending=False)\n",
    "\n",
    "unique_df.to_csv(\"new_count.csv\", header=0)"
   ]
  },
  {
   "cell_type": "code",
   "execution_count": null,
   "metadata": {
    "collapsed": true
   },
   "outputs": [],
   "source": []
  }
 ],
 "metadata": {
  "kernelspec": {
   "display_name": "Python 3",
   "language": "python",
   "name": "python3"
  },
  "language_info": {
   "codemirror_mode": {
    "name": "ipython",
    "version": 3
   },
   "file_extension": ".py",
   "mimetype": "text/x-python",
   "name": "python",
   "nbconvert_exporter": "python",
   "pygments_lexer": "ipython3",
   "version": "3.6.4"
  }
 },
 "nbformat": 4,
 "nbformat_minor": 2
}
